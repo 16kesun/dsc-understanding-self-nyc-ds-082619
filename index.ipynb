{
 "cells": [
  {
   "cell_type": "markdown",
   "metadata": {},
   "source": [
    "# Practice with Instance Variables"
   ]
  },
  {
   "cell_type": "markdown",
   "metadata": {},
   "source": [
    "## Introduction\n",
    "In this lesson, we will introduce using instance variables, which we use to store information about a particular instance object. We use instance variables as another tool to help us model our object oriented solutions after real-world contexts. So, while we may have a class that is modeled after a School, we have many schools. Things that differentiate schools are the `number_of_students`, `average_class_size`, `city`, etc. These all represent information about a particular school, just as instance variables represent information about a particular instance object.  "
   ]
  },
  {
   "cell_type": "markdown",
   "metadata": {},
   "source": [
    "## Objectives\n",
    "\n",
    "* Define instance variables\n",
    "* Describe how instance variables give objects attributes and properties"
   ]
  },
  {
   "cell_type": "markdown",
   "metadata": {},
   "source": [
    "## Defining Instance Variables"
   ]
  },
  {
   "cell_type": "markdown",
   "metadata": {},
   "source": [
    "We have been writing functions and working with variables for a while now. We've talked about the difference between global variables and local variables. However, classes add another level of complexity with instance variables. Remember the *difference between local and global variables is their **scope***. Local varibles have local or function scope, that is that they are only able to be accessed inside the function in which they are defined. Global variables can be accessed from anywhere in the file. Below is an example to jog our memory:  "
   ]
  },
  {
   "cell_type": "code",
   "execution_count": 1,
   "metadata": {},
   "outputs": [
    {
     "name": "stdout",
     "output_type": "stream",
     "text": [
      "jake spalding\n",
      "terrance\n"
     ]
    },
    {
     "ename": "NameError",
     "evalue": "name 'last_name' is not defined",
     "output_type": "error",
     "traceback": [
      "\u001b[1;31m---------------------------------------------------------------------------\u001b[0m",
      "\u001b[1;31mNameError\u001b[0m                                 Traceback (most recent call last)",
      "\u001b[1;32m<ipython-input-1-6aed85cdb045>\u001b[0m in \u001b[0;36m<module>\u001b[1;34m()\u001b[0m\n\u001b[0;32m      7\u001b[0m \u001b[0mexample_function\u001b[0m\u001b[1;33m(\u001b[0m\u001b[1;33m)\u001b[0m \u001b[1;31m# executing fuction with local variable\u001b[0m\u001b[1;33m\u001b[0m\u001b[0m\n\u001b[0;32m      8\u001b[0m \u001b[0mprint\u001b[0m\u001b[1;33m(\u001b[0m\u001b[0mname\u001b[0m\u001b[1;33m)\u001b[0m \u001b[1;31m# printing global variable\u001b[0m\u001b[1;33m\u001b[0m\u001b[0m\n\u001b[1;32m----> 9\u001b[1;33m \u001b[0mprint\u001b[0m\u001b[1;33m(\u001b[0m\u001b[0mlast_name\u001b[0m\u001b[1;33m)\u001b[0m \u001b[1;31m# printing local variable\u001b[0m\u001b[1;33m\u001b[0m\u001b[0m\n\u001b[0m",
      "\u001b[1;31mNameError\u001b[0m: name 'last_name' is not defined"
     ]
    }
   ],
   "source": [
    "name = \"terrance\" # global variable\n",
    "def example_function():\n",
    "    name = \"jake\" # local variable\n",
    "    last_name = \"spalding\"\n",
    "    print(name, last_name)\n",
    "\n",
    "example_function() # executing fuction with local variable\n",
    "print(name) # printing global variable\n",
    "print(last_name) # printing local variable"
   ]
  },
  {
   "cell_type": "markdown",
   "metadata": {},
   "source": [
    "Again, our local variable, `last_name` is bound to its local or function scope, so when we try to print its value outside of the function it is undefined. Likewise, when we try to print the `name` variable outside of the function, it refers to the globally defined `name` as opposed to the `name` defined in the `example_function`. This brings us to instance variables. They act similarly in that they are bound to their instance. This means that we define instance variables **on** instance objects. These instance variables are then only accessible through the instance on which they were defined.\n",
    "\n",
    "The following is an example of adding an instance variable to an instance object and then accessing it later. Don't worry if it is confusing right now, the rest of this lesson will clear things up."
   ]
  },
  {
   "cell_type": "code",
   "execution_count": 2,
   "metadata": {},
   "outputs": [],
   "source": [
    "class Person:\n",
    "    pass\n",
    "\n",
    "terrance = Person() # instantiating instance object from Person class called 'terrance'\n",
    "jake = Person() # instantiating instance object from Person class called 'terrance'\n",
    "terrance.first_name = \"terrance\" # adding an instance variable, first_name to the instance"
   ]
  },
  {
   "cell_type": "code",
   "execution_count": 3,
   "metadata": {},
   "outputs": [
    {
     "name": "stdout",
     "output_type": "stream",
     "text": [
      "terrance\n"
     ]
    }
   ],
   "source": [
    "print(terrance.first_name) # printing instance variable accessed from the instance"
   ]
  },
  {
   "cell_type": "code",
   "execution_count": 4,
   "metadata": {},
   "outputs": [
    {
     "ename": "AttributeError",
     "evalue": "'Person' object has no attribute 'first_name'",
     "output_type": "error",
     "traceback": [
      "\u001b[1;31m---------------------------------------------------------------------------\u001b[0m",
      "\u001b[1;31mAttributeError\u001b[0m                            Traceback (most recent call last)",
      "\u001b[1;32m<ipython-input-4-0eccfe9aaa93>\u001b[0m in \u001b[0;36m<module>\u001b[1;34m()\u001b[0m\n\u001b[1;32m----> 1\u001b[1;33m \u001b[0mprint\u001b[0m\u001b[1;33m(\u001b[0m\u001b[0mjake\u001b[0m\u001b[1;33m.\u001b[0m\u001b[0mfirst_name\u001b[0m\u001b[1;33m)\u001b[0m \u001b[1;31m# undefined since it is not defined yet on the instance jake\u001b[0m\u001b[1;33m\u001b[0m\u001b[0m\n\u001b[0m",
      "\u001b[1;31mAttributeError\u001b[0m: 'Person' object has no attribute 'first_name'"
     ]
    }
   ],
   "source": [
    "print(jake.first_name) # undefined since it is not defined yet on the instance jake"
   ]
  },
  {
   "cell_type": "code",
   "execution_count": 5,
   "metadata": {},
   "outputs": [
    {
     "ename": "NameError",
     "evalue": "name 'first_name' is not defined",
     "output_type": "error",
     "traceback": [
      "\u001b[1;31m---------------------------------------------------------------------------\u001b[0m",
      "\u001b[1;31mNameError\u001b[0m                                 Traceback (most recent call last)",
      "\u001b[1;32m<ipython-input-5-6924f43a7ba7>\u001b[0m in \u001b[0;36m<module>\u001b[1;34m()\u001b[0m\n\u001b[1;32m----> 1\u001b[1;33m \u001b[0mprint\u001b[0m\u001b[1;33m(\u001b[0m\u001b[0mfirst_name\u001b[0m\u001b[1;33m)\u001b[0m \u001b[1;31m# undefined since it is not being accessed from the instance\u001b[0m\u001b[1;33m\u001b[0m\u001b[0m\n\u001b[0m",
      "\u001b[1;31mNameError\u001b[0m: name 'first_name' is not defined"
     ]
    }
   ],
   "source": [
    "print(first_name) # undefined since it is not being accessed from the instance"
   ]
  },
  {
   "cell_type": "markdown",
   "metadata": {},
   "source": [
    "## Okay, But Why Do We Need Instance Variables?\n",
    "\n",
    "Let's imagine we have two drivers. We instantiate them as instances of the `ExampleDriver` class and assign them to variables, `driver_one` and `driver_two`. Let's see this:"
   ]
  },
  {
   "cell_type": "code",
   "execution_count": 6,
   "metadata": {},
   "outputs": [
    {
     "name": "stdout",
     "output_type": "stream",
     "text": [
      "<__main__.ExampleDriver object at 0x000001B132DE2518>\n",
      "<__main__.ExampleDriver object at 0x000001B132D32E48>\n"
     ]
    }
   ],
   "source": [
    "class ExampleDriver:\n",
    "    pass\n",
    "    \n",
    "driver_one = ExampleDriver()\n",
    "driver_two = ExampleDriver()\n",
    "print(driver_one)\n",
    "print(driver_two)"
   ]
  },
  {
   "cell_type": "markdown",
   "metadata": {},
   "source": [
    "Notice anything? Pretty hard to tell who is who... How can we fix this? We could probably give them names, right? Well, how do we assign a name to these instances?\n",
    "\n",
    "That's where instance variables come in. Instance variables can be thought of as an attribute on an object. So, if we want our instance objects to have a `name` attribute, we simply need to add it to the object."
   ]
  },
  {
   "cell_type": "code",
   "execution_count": 7,
   "metadata": {},
   "outputs": [
    {
     "name": "stdout",
     "output_type": "stream",
     "text": [
      "alex\n"
     ]
    }
   ],
   "source": [
    "driver_one.name = 'alex'\n",
    "print(driver_one.name)"
   ]
  },
  {
   "cell_type": "markdown",
   "metadata": {},
   "source": [
    "Great! We have made our first instance variable and we can now start to differentiate our instance objects and make them a bit more interesting. To reiterate, adding an attribute like `name` to an instance object is done by simply using the following syntax: `variable-dot-attribute = value`. Let's add driver_two's name now, let's name them 'julian'."
   ]
  },
  {
   "cell_type": "code",
   "execution_count": 9,
   "metadata": {},
   "outputs": [
    {
     "name": "stdout",
     "output_type": "stream",
     "text": [
      "julian\n"
     ]
    }
   ],
   "source": [
    "# add name to driver_two\n",
    "driver_two.name = 'julian'\n",
    "print(driver_two.name)"
   ]
  },
  {
   "cell_type": "markdown",
   "metadata": {},
   "source": [
    "Now, we can imagine wanting to add many instance variables to these instance objects which would make them quite complex. We will want a way to look at the instance variables -- similar to how we want to be able to look at the keys in a dictionary. Luckily for us, there is a couple methods that do just that! \n",
    "\n",
    "The first, `vars`, is a method that returns a dictionary containing the keys and values that represent the instance variable names and values of an instance object. Let's see it in action:"
   ]
  },
  {
   "cell_type": "markdown",
   "metadata": {},
   "source": [
    "> **Note:** instance variables and instance methods both can be referred to as `attributes` of an instance object. "
   ]
  },
  {
   "cell_type": "code",
   "execution_count": 10,
   "metadata": {},
   "outputs": [
    {
     "data": {
      "text/plain": [
       "{'name': 'julian'}"
      ]
     },
     "execution_count": 10,
     "metadata": {},
     "output_type": "execute_result"
    }
   ],
   "source": [
    "vars(driver_two)"
   ]
  },
  {
   "cell_type": "markdown",
   "metadata": {},
   "source": [
    "The next, `__dict__`, is actually a built-in attribute of all objects in Python, including Classes and instance objects. In fact, it is used every time we access an instance variable. The example below shows how accessing instance variables works behind the scenes.\n",
    "\n",
    "```python\n",
    "    driver_one.name # \"alex\"\n",
    "    \n",
    "    driver_one.__dict__[\"name\"] # \"alex\"\n",
    "```\n",
    "Let's see what the output of the `__dict__` method looks like in action:"
   ]
  },
  {
   "cell_type": "code",
   "execution_count": 11,
   "metadata": {},
   "outputs": [
    {
     "data": {
      "text/plain": [
       "{'name': 'julian'}"
      ]
     },
     "execution_count": 11,
     "metadata": {},
     "output_type": "execute_result"
    }
   ],
   "source": [
    "driver_two.__dict__"
   ]
  },
  {
   "cell_type": "markdown",
   "metadata": {},
   "source": [
    "So, to prove our example above, let's show each step of the process, starting with accessing the `name` variable with the dot (`.`) method."
   ]
  },
  {
   "cell_type": "code",
   "execution_count": 12,
   "metadata": {},
   "outputs": [
    {
     "data": {
      "text/plain": [
       "'alex'"
      ]
     },
     "execution_count": 12,
     "metadata": {},
     "output_type": "execute_result"
    }
   ],
   "source": [
    "driver_one.name"
   ]
  },
  {
   "cell_type": "code",
   "execution_count": 13,
   "metadata": {},
   "outputs": [
    {
     "data": {
      "text/plain": [
       "{'name': 'alex'}"
      ]
     },
     "execution_count": 13,
     "metadata": {},
     "output_type": "execute_result"
    }
   ],
   "source": [
    "# creates a dictionary with the key 'name' pointing to the string 'alex'\n",
    "driver_one.__dict__"
   ]
  },
  {
   "cell_type": "code",
   "execution_count": 14,
   "metadata": {},
   "outputs": [
    {
     "data": {
      "text/plain": [
       "'alex'"
      ]
     },
     "execution_count": 14,
     "metadata": {},
     "output_type": "execute_result"
    }
   ],
   "source": [
    "# creates a dictionary with the key 'name' pointing to the string 'alex'\n",
    "# then accesses the key 'name' to return the value 'alex'\n",
    "driver_one.__dict__['name']"
   ]
  },
  {
   "cell_type": "markdown",
   "metadata": {},
   "source": [
    "## Differentiating Instance Methods And Instance Variables"
   ]
  },
  {
   "cell_type": "markdown",
   "metadata": {},
   "source": [
    "Awesome! As the note above states, instance variables aren't the only attribute. Our instance methods are also attributes and a lot of the time we use them in tandem. Let's see a quick example:"
   ]
  },
  {
   "cell_type": "code",
   "execution_count": 15,
   "metadata": {},
   "outputs": [],
   "source": [
    "class Person:\n",
    "    def say_hello(self):\n",
    "        print(\"Hi! How are you today? My name is \" + self.name.title() + \".\")\n",
    "        \n",
    "jeff = Person()\n",
    "jeff.name = \"jeff\""
   ]
  },
  {
   "cell_type": "code",
   "execution_count": 16,
   "metadata": {},
   "outputs": [
    {
     "name": "stdout",
     "output_type": "stream",
     "text": [
      "Hi! How are you today? My name is Jeff.\n"
     ]
    }
   ],
   "source": [
    "jeff.say_hello()"
   ]
  },
  {
   "cell_type": "code",
   "execution_count": 17,
   "metadata": {},
   "outputs": [
    {
     "data": {
      "text/plain": [
       "'jeff'"
      ]
     },
     "execution_count": 17,
     "metadata": {},
     "output_type": "execute_result"
    }
   ],
   "source": [
    "jeff.name"
   ]
  },
  {
   "cell_type": "markdown",
   "metadata": {},
   "source": [
    "So, as we can see instance variables and instance methods look very similar syntactically. In fact, the main difference between the two is that instance methods are callable attributes on an instance object and instance variables are not callable. This makes sense since instance methods have a block of code to execute and instance variables do not. "
   ]
  },
  {
   "cell_type": "markdown",
   "metadata": {},
   "source": [
    "## Summary\n",
    "In this lesson we saw how to define instance variables and saw how to use them in order to give our instance objects attributes and added complexity. We then saw how to define instance methods and call them on our instance objects. "
   ]
  }
 ],
 "metadata": {
  "kernelspec": {
   "display_name": "Python 3",
   "language": "python",
   "name": "python3"
  },
  "language_info": {
   "codemirror_mode": {
    "name": "ipython",
    "version": 3
   },
   "file_extension": ".py",
   "mimetype": "text/x-python",
   "name": "python",
   "nbconvert_exporter": "python",
   "pygments_lexer": "ipython3",
   "version": "3.6.5"
  }
 },
 "nbformat": 4,
 "nbformat_minor": 2
}
